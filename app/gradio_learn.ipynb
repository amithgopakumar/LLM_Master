{
 "cells": [
  {
   "metadata": {},
   "cell_type": "markdown",
   "source": [
    "# Key Concepts\n",
    "\n",
    "- **`gr.Interface`** → The simplest way to connect a Python function to a UI.\n",
    "- **Inputs** (`gr.Textbox`, `gr.Image`, `gr.Slider`,`gr.Button`,etc.)\n",
    "- **Outputs** (`gr.Textbox`, `gr.Image`, etc.)\n",
    "- **`launch()`** → Runs the app locally."
   ],
   "id": "a630c8d65d6b51e5"
  },
  {
   "cell_type": "code",
   "id": "initial_id",
   "metadata": {
    "collapsed": true
   },
   "source": [
    "import gradio as gr\n",
    "def welcome(name):\n",
    "    return f\"hello my name is {name}\"\n",
    "\n",
    "demo = gr.Interface(\n",
    "    fn=welcome,\n",
    "    inputs=gr.Textbox(label=\"Enter something\"),\n",
    "    outputs=gr.Textbox(label=\"Response\")\n",
    ")\n",
    "\n",
    "demo.launch()"
   ],
   "outputs": [],
   "execution_count": null
  },
  {
   "metadata": {},
   "cell_type": "code",
   "source": [
    "import gradio as gr\n",
    "\n",
    "def welcome(name, age):\n",
    "    return f\"Hello! My name is {name} and I am {age} years old.\"\n",
    "\n",
    "demo = gr.Interface(\n",
    "    fn=welcome,\n",
    "    inputs=[\n",
    "        gr.Textbox(label=\"Name\"),\n",
    "        gr.Slider(label=\"Age\", value=1, minimum=1, maximum=100, step=1)\n",
    "    ],\n",
    "    outputs=gr.Textbox(label=\"Response\")\n",
    ")\n",
    "\n",
    "demo.launch()"
   ],
   "id": "4e1838a6add593bf",
   "outputs": [],
   "execution_count": null
  },
  {
   "metadata": {},
   "cell_type": "markdown",
   "source": [
    "# Multi-Turn Chat (Chatbot Mode)\n",
    "\n",
    "**Goal:** Create a **persistent conversation** inside the app (like ChatGPT's scrollable chat area).\n",
    "\n",
    "## Key Concepts\n",
    "\n",
    "- **`gr.Chatbot`** → Special component to store and display chat messages.\n",
    "- **Session State** (`history`) → Stores chat so it doesn't reset after each message.\n",
    "- **Updating UI dynamically** using return values."
   ],
   "id": "3710b5fd53c92208"
  },
  {
   "metadata": {},
   "cell_type": "code",
   "source": [
    "import gradio as gr\n",
    "\n",
    "def chatbot_response(message, history):\n",
    "    # Append user message\n",
    "    history.append((\"User: \" + message, \"Bot: \" + message.upper()))\n",
    "    return history, history\n",
    "\n",
    "with gr.Blocks() as demo:\n",
    "    chatbot = gr.Chatbot()\n",
    "    msg = gr.Textbox(label=\"Your message\")\n",
    "    state = gr.State([])  # Store chat history\n",
    "\n",
    "    def respond(user_message, history):\n",
    "        history.append((user_message, \"Echo: \" + user_message))\n",
    "        return history, history\n",
    "\n",
    "    msg.submit(respond, [msg, state], [chatbot, state])\n",
    "\n",
    "demo.launch()\n"
   ],
   "id": "514d3c4c4815f383",
   "outputs": [],
   "execution_count": null
  },
  {
   "metadata": {},
   "cell_type": "markdown",
   "source": [
    "# Image Upload + Chat\n",
    "\n",
    "**Goal:** Let the user **upload an image**, send it to the bot, and get a response.\n",
    "\n",
    "## Key Concepts\n",
    "\n",
    "- **`gr.Image()`** as input\n",
    "- **Handling both text and images** in chat\n",
    "- **Showing uploaded images** in `gr.Chatbot`"
   ],
   "id": "8e5fe36ccebcc39b"
  },
  {
   "metadata": {},
   "cell_type": "code",
   "source": [
    "import gradio as gr\n",
    "\n",
    "def image_chat(user_message, user_image, history):\n",
    "    # Add image message\n",
    "    if user_image is not None:\n",
    "        history.append((user_message, \"You sent an image!\"))\n",
    "    else:\n",
    "        history.append((user_message, \"Echo: \" + user_message))\n",
    "    return history, history\n",
    "\n",
    "with gr.Blocks() as demo:\n",
    "    chatbot = gr.Chatbot()\n",
    "    msg = gr.Textbox(label=\"Your message\")\n",
    "    img = gr.Image(type=\"filepath\", label=\"Upload image (optional)\")\n",
    "    state = gr.State([])\n",
    "\n",
    "    send_btn = gr.Button(\"Send\")\n",
    "\n",
    "    send_btn.click(image_chat, [msg, img, state], [chatbot, state])\n",
    "\n",
    "demo.launch()\n"
   ],
   "id": "9f3272723a9b725f",
   "outputs": [],
   "execution_count": null
  },
  {
   "metadata": {},
   "cell_type": "markdown",
   "source": [
    "# Persistent Chat Like ChatGPT\n",
    "\n",
    "**Goal:** Make **previous chats retrievable** even after page reload (like ChatGPT's left-hand sidebar).\n",
    "\n",
    "## Key Concepts\n",
    "\n",
    "- **Saving chats to a file or database**\n",
    "- **Loading chats at startup**\n",
    "- **Dynamic components** (loading old chats into chatbot window)"
   ],
   "id": "38cac32123246a87"
  },
  {
   "metadata": {},
   "cell_type": "code",
   "source": [
    "import gradio as gr\n",
    "import json\n",
    "import os\n",
    "\n",
    "CHAT_FILE = \"chat_history.json\"\n",
    "\n",
    "def load_history():\n",
    "    if os.path.exists(CHAT_FILE):\n",
    "        with open(CHAT_FILE, \"r\") as f:\n",
    "            return json.load(f)\n",
    "    return []\n",
    "\n",
    "def save_history(history):\n",
    "    with open(CHAT_FILE, \"w\") as f:\n",
    "        json.dump(history, f)\n",
    "\n",
    "def chatbot_response(message, history):\n",
    "    history.append((message, \"Echo: \" + message))\n",
    "    save_history(history)\n",
    "    return history, history\n",
    "\n",
    "with gr.Blocks() as demo:\n",
    "    chatbot = gr.Chatbot()\n",
    "    msg = gr.Textbox(label=\"Type here\")\n",
    "    state = gr.State(load_history())\n",
    "\n",
    "    msg.submit(chatbot_response, [msg, state], [chatbot, state])\n",
    "\n",
    "demo.launch()\n"
   ],
   "id": "5b3f6d41cfe4425c",
   "outputs": [],
   "execution_count": null
  },
  {
   "metadata": {},
   "cell_type": "code",
   "outputs": [],
   "execution_count": null,
   "source": "",
   "id": "4bbbbba3878855fb"
  }
 ],
 "metadata": {
  "kernelspec": {
   "display_name": "Python 3",
   "language": "python",
   "name": "python3"
  },
  "language_info": {
   "codemirror_mode": {
    "name": "ipython",
    "version": 2
   },
   "file_extension": ".py",
   "mimetype": "text/x-python",
   "name": "python",
   "nbconvert_exporter": "python",
   "pygments_lexer": "ipython2",
   "version": "2.7.6"
  }
 },
 "nbformat": 4,
 "nbformat_minor": 5
}
