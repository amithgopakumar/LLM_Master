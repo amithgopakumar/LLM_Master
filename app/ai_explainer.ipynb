{
 "cells": [
  {
   "cell_type": "code",
   "id": "initial_id",
   "metadata": {
    "collapsed": true,
    "ExecuteTime": {
     "end_time": "2025-08-15T05:35:17.347259Z",
     "start_time": "2025-08-15T05:35:16.387608Z"
    }
   },
   "source": [
    "import os\n",
    "from openai import OpenAI\n",
    "from dotenv import load_dotenv\n",
    "import gradio as gr\n",
    "load_dotenv()\n",
    "OPENAI_API_KEY=os.getenv(\"OPENAI_API_KEY\")\n",
    "openai_client=OpenAI(api_key=OPENAI_API_KEY)\n",
    "\n",
    "system_prompt = \"\"\"\n",
    "You are a programming help assistant.\n",
    "Your only task is to answer user queries strictly related to programming, coding, software development, or debugging.\n",
    "If the user asks anything unrelated to programming, politely decline and remind them that you only answer programming-related questions.\n",
    "\n",
    "If the user specifies the programming language, provide the solution in that language.\n",
    "If the user does not specify a programming language, assume the request is for Python and provide a Python example.\n",
    "\n",
    "Always ensure your answers are:\n",
    "1. Accurate and concise.\n",
    "2. Include example code where possible.\n",
    "3. Include brief explanations to help the user understand.\n",
    "4. Use proper code formatting.\n",
    "\n",
    "If a question is unclear, ask for clarification before answering.\n",
    "\"\"\"\n",
    "\n",
    "def chat_reply(**kwargs):\n",
    "    user_input = kwargs.get(\"Code Query\", \"\")\n",
    "\n",
    "    try:\n",
    "        response=openai_client.chat.completions.create(\n",
    "            model=\"gpt-4o\",\n",
    "            messages=[\n",
    "                {\"role\":\"system\",\"content\":system_prompt},\n",
    "                {\"role\":\"user\",\"content\":user_input},\n",
    "            ],\n",
    "            temperature=0.7,\n",
    "            max_tokens=100 )\n",
    "        return response\n",
    "    except Exception as e:\n",
    "        # Handle potential errors during the API call\n",
    "        print(f\"An error occurred: {e}\")\n",
    "        return f\"Sorry, I encountered an error trying to get an answer: {e}\"\n",
    "def chat_reply_wrapper(user_input):\n",
    "    return chat_reply(**{\"Code Query\": user_input})\n",
    "\n",
    "\n",
    "with gr.Blocks() as chat:\n",
    "    input=gr.Textbox(label=\"Code Query\",placeholder=\"Write your code query (e.g., Python loop example)\" )\n",
    "    output=gr.Textbox(label=\"AI Explanation\",lines=4)\n",
    "    button=gr.Button(\"Submit\")\n",
    "    button.click(fn=chat_reply_wrapper,inputs=input,outputs=output ,api_name=\"Open AI code Explainer\")\n",
    "\n",
    "chat.launch()\n"
   ],
   "outputs": [
    {
     "name": "stdout",
     "output_type": "stream",
     "text": [
      "* Running on local URL:  http://127.0.0.1:7870\n",
      "* To create a public link, set `share=True` in `launch()`.\n"
     ]
    },
    {
     "data": {
      "text/plain": [
       "<IPython.core.display.HTML object>"
      ],
      "text/html": [
       "<div><iframe src=\"http://127.0.0.1:7870/\" width=\"100%\" height=\"500\" allow=\"autoplay; camera; microphone; clipboard-read; clipboard-write;\" frameborder=\"0\" allowfullscreen></iframe></div>"
      ]
     },
     "metadata": {},
     "output_type": "display_data"
    },
    {
     "data": {
      "text/plain": []
     },
     "execution_count": 9,
     "metadata": {},
     "output_type": "execute_result"
    }
   ],
   "execution_count": 9
  },
  {
   "metadata": {},
   "cell_type": "code",
   "outputs": [],
   "execution_count": null,
   "source": "",
   "id": "aca7601660b99b9f"
  }
 ],
 "metadata": {
  "kernelspec": {
   "display_name": "Python 3",
   "language": "python",
   "name": "python3"
  },
  "language_info": {
   "codemirror_mode": {
    "name": "ipython",
    "version": 2
   },
   "file_extension": ".py",
   "mimetype": "text/x-python",
   "name": "python",
   "nbconvert_exporter": "python",
   "pygments_lexer": "ipython2",
   "version": "2.7.6"
  }
 },
 "nbformat": 4,
 "nbformat_minor": 5
}
