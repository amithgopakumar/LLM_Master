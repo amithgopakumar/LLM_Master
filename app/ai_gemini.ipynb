{
 "cells": [
  {
   "cell_type": "code",
   "id": "initial_id",
   "metadata": {
    "collapsed": true,
    "ExecuteTime": {
     "end_time": "2025-08-15T11:01:33.287387Z",
     "start_time": "2025-08-15T11:01:32.027354Z"
    }
   },
   "source": [
    "import os\n",
    "from openai import OpenAI\n",
    "from dotenv import load_dotenv\n",
    "from google import genai\n",
    "from google.genai import types\n",
    "import gradio as gr\n",
    "load_dotenv()\n",
    "client = genai.Client()\n",
    "system_prompt = \"\"\"\n",
    "You are a programming help assistant.\n",
    "Your only task is to answer user queries strictly related to programming, coding, software development, or debugging.\n",
    "If the user asks anything unrelated to programming, politely decline and remind them that you only answer programming-related questions.\n",
    "\n",
    "If the user specifies the programming language, provide the solution in that language.\n",
    "If the user does not specify a programming language, assume the request is for Python and provide a Python example.\n",
    "\n",
    "Always ensure your answers are:\n",
    "1. Accurate and concise.\n",
    "2. Include example code where possible.\n",
    "3. Include brief explanations to help the user understand.\n",
    "4. Use proper code formatting.\n",
    "\n",
    "If a question is unclear, ask for clarification before answering.\n",
    "\"\"\"\n",
    "\n",
    "def chat_reply(**kwargs):\n",
    "    user_input = kwargs.get(\"Code Query\", \"\")\n",
    "\n",
    "    try:\n",
    "        response=client.models.generate_content(\n",
    "             model=\"gemini-2.5-flash\",\n",
    "             contents = [{ \"role\": \"user\", \"parts\": [{\"text\": f\"{system_prompt}\\n\\n{user_input}\"}] }],\n",
    "        config=types.GenerateContentConfig(\n",
    "        thinking_config=types.ThinkingConfig(thinking_budget=0) # Disables thinking\n",
    "    ),\n",
    "    )\n",
    "        return response.candidates[0].content.parts[0].text\n",
    "    except Exception as e:\n",
    "        # Handle potential errors during the API call\n",
    "        print(f\"An error occurred: {e}\")\n",
    "        return f\"Sorry, I encountered an error trying to get an answer: {e}\"\n",
    "def chat_reply_wrapper(user_input):\n",
    "    return chat_reply(**{\"Code Query\": user_input})\n",
    "\n",
    "\n",
    "with gr.Blocks() as chat:\n",
    "    input=gr.Textbox(label=\"Code Query\",placeholder=\"Write your code query (e.g., Python loop example)\" )\n",
    "    output=gr.Textbox(label=\"AI Explanation\",lines=4)\n",
    "    button=gr.Button(\"Submit\")\n",
    "    button.click(fn=chat_reply_wrapper,inputs=input,outputs=output ,api_name=\"Open AI code Explainer\")\n",
    "\n",
    "chat.launch()\n"
   ],
   "outputs": [
    {
     "name": "stdout",
     "output_type": "stream",
     "text": [
      "* Running on local URL:  http://127.0.0.1:7863\n",
      "* To create a public link, set `share=True` in `launch()`.\n"
     ]
    },
    {
     "data": {
      "text/plain": [
       "<IPython.core.display.HTML object>"
      ],
      "text/html": [
       "<div><iframe src=\"http://127.0.0.1:7863/\" width=\"100%\" height=\"500\" allow=\"autoplay; camera; microphone; clipboard-read; clipboard-write;\" frameborder=\"0\" allowfullscreen></iframe></div>"
      ]
     },
     "metadata": {},
     "output_type": "display_data"
    },
    {
     "data": {
      "text/plain": []
     },
     "execution_count": 4,
     "metadata": {},
     "output_type": "execute_result"
    }
   ],
   "execution_count": 4
  },
  {
   "metadata": {},
   "cell_type": "code",
   "outputs": [],
   "execution_count": null,
   "source": "",
   "id": "3d6a3a0795680c2d"
  }
 ],
 "metadata": {
  "kernelspec": {
   "display_name": "Python 3",
   "language": "python",
   "name": "python3"
  },
  "language_info": {
   "codemirror_mode": {
    "name": "ipython",
    "version": 2
   },
   "file_extension": ".py",
   "mimetype": "text/x-python",
   "name": "python",
   "nbconvert_exporter": "python",
   "pygments_lexer": "ipython2",
   "version": "2.7.6"
  }
 },
 "nbformat": 4,
 "nbformat_minor": 5
}
